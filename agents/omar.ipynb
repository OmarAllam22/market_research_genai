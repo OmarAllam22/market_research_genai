{
 "cells": [
  {
   "cell_type": "code",
   "execution_count": null,
   "metadata": {},
   "outputs": [
    {
     "name": "stdout",
     "output_type": "stream",
     "text": [
      "DeepSeek Chatbot (type 'exit' to quit)\n",
      "\n",
      "Bot: \n",
      "\n",
      "Bot: \n",
      "\n",
      "Bot: \n",
      "\n",
      "Bot: \n",
      "\n",
      "Bot: <think>\n",
      "\n",
      "</think>\n",
      "\n",
      "Hello! How can I assist you today? 😊\n",
      "\n",
      "Bot: <think>\n",
      "\n",
      "</think>\n",
      "\n",
      "Hi! I don’t have access to personal information like your name. Could you ask something else or provide more details? 😊\n",
      "\n",
      "Bot: \n",
      "\n",
      "Bot: \n"
     ]
    }
   ],
   "source": [
    "import ollama\n",
    "\n",
    "# Verify model is available\n",
    "try:\n",
    "    ollama.show('deepseek-r1')\n",
    "except:\n",
    "    print(\"Please install the model first with: ollama pull deepseek-r1\")\n",
    "    exit()\n",
    "\n",
    "def chat():\n",
    "    print(\"DeepSeek Chatbot (type 'exit' to quit)\")\n",
    "    while True:\n",
    "        prompt = input(\"\\nYou: \")\n",
    "        if prompt.lower() == 'exit':\n",
    "            break\n",
    "        \n",
    "        # Generate response\n",
    "        response = ollama.generate(  \n",
    "            model='deepseek-r1',\n",
    "            prompt=prompt,\n",
    "            stream=True,\n",
    "            temperature=0.7,\n",
    "            max_tokens=5000 \n",
    "        )\n",
    "        \n",
    "        # Print response chunks as they come\n",
    "        print(\"\\nBot: \", end='', flush=True)\n",
    "        for chunk in response:\n",
    "            print(chunk['response'], end='', flush=True)\n",
    "        print()\n",
    "\n",
    "if __name__ == \"__main__\":\n",
    "    chat()"
   ]
  }
 ],
 "metadata": {
  "kernelspec": {
   "display_name": "market-research-genai",
   "language": "python",
   "name": "python3"
  },
  "language_info": {
   "codemirror_mode": {
    "name": "ipython",
    "version": 3
   },
   "file_extension": ".py",
   "mimetype": "text/x-python",
   "name": "python",
   "nbconvert_exporter": "python",
   "pygments_lexer": "ipython3",
   "version": "3.10.16"
  }
 },
 "nbformat": 4,
 "nbformat_minor": 2
}
